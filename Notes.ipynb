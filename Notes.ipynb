{
 "cells": [
  {
   "cell_type": "markdown",
   "metadata": {},
   "source": [
    "# Notes"
   ]
  },
  {
   "cell_type": "markdown",
   "metadata": {},
   "source": [
    "## Parameters required\n",
    "1. Features/Measures (values)\n",
    "2. Weights (random)\n",
    "3. Bias (random)\n",
    "---"
   ]
  },
  {
   "cell_type": "markdown",
   "metadata": {},
   "source": [
    "## Model formula\n",
    "m1 * w1 + m2 * w2 + b\n",
    "\n",
    "### Here:\n",
    "- m1 & m2 → Measures/Features\n",
    "- w1 & w2 → Weighs\n",
    "- b → Bias\n",
    "---"
   ]
  },
  {
   "cell_type": "markdown",
   "metadata": {},
   "source": [
    "## Cost Function\n",
    "(Prediction-Target)²\n",
    "\n",
    "### Here:\n",
    "- Prediction-Target → Error\n",
    "- (Error)² → Squared\n",
    "\n",
    "> Thus, A.K.A. \"Squared Error Cost Function\"\n",
    "---"
   ]
  },
  {
   "cell_type": "markdown",
   "metadata": {},
   "source": [
    "## Slope\n",
    "The no. which we substract to our prediction to get **cost = 0**\n",
    "### Finding Slope formula\n",
    "#### Calculas Power Rule\n",
    "f(x) = x$^y$\n",
    "<br>\n",
    "d/dx * f(x) = yx$^y-1$\n",
    "#### Slope Formula\n",
    "Cost Function = (Prediction-Target)²\n",
    "<br>\n",
    "∴ Slope = 2(Prediction-Target)\n",
    "\n",
    "---"
   ]
  },
  {
   "cell_type": "markdown",
   "metadata": {},
   "source": [
    "# Fixing Slope \n",
    "## Prediction = prediction - 0.1 * slope"
   ]
  }
 ],
 "metadata": {
  "kernelspec": {
   "display_name": "TF",
   "language": "python",
   "name": "tf"
  },
  "language_info": {
   "codemirror_mode": {
    "name": "ipython",
    "version": 3
   },
   "file_extension": ".py",
   "mimetype": "text/x-python",
   "name": "python",
   "nbconvert_exporter": "python",
   "pygments_lexer": "ipython3",
   "version": "3.7.7"
  }
 },
 "nbformat": 4,
 "nbformat_minor": 4
}
